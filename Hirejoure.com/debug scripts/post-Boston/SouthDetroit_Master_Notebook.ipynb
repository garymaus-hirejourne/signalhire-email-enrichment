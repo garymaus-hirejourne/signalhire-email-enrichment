{
  "cells": [
    {
      "cell_type": "markdown",
      "metadata": {},
      "source": [
        "# South Detroit Master Notebook\n",
        "Automated scraping, enrichment, and filtering pipeline."
      ]
    },
    {
      "cell_type": "code",
      "execution_count": null,
      "metadata": {},
      "outputs": [],
      "source": [
        "# Mount Google Drive\n",
        "from google.colab import drive\n",
        "drive.mount('/content/drive')"
      ]
    },
    {
      "cell_type": "code",
      "execution_count": null,
      "metadata": {},
      "outputs": [],
      "source": [
        "# Navigate to the South Detroit project directory\n",
        "import os\n",
        "project_path = '/content/drive/MyDrive/Hirejoure.com/SouthDetroit'\n",
        "os.chdir(project_path)\n",
        "print(f'\u2705 Current directory: {os.getcwd()}')"
      ]
    }
  ],
  "metadata": {
    "colab": {
      "name": "SouthDetroit_Master_Notebook",
      "provenance": []
    },
    "kernelspec": {
      "display_name": "Python 3",
      "language": "python",
      "name": "python3"
    },
    "language_info": {
      "name": "python",
      "version": "3.9"
    }
  },
  "nbformat": 4,
  "nbformat_minor": 1
}